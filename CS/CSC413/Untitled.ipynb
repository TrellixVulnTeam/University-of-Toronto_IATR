{
 "cells": [
  {
   "cell_type": "code",
   "execution_count": null,
   "metadata": {},
   "outputs": [],
   "source": [
    "def fit_poly(X, d,):\n",
    "  X_expand = poly_expand(X, d=d, poly_type = poly_type)\n",
    "  if d > n:\n",
    "    W = linalg.inv(X_expand.T@X_expand)@X_expand.T@t\n",
    "  else:\n",
    "    W = X_expand.T@linalg.inv(X_expand@X_expand.T)@t\n",
    "  return W"
   ]
  }
 ],
 "metadata": {
  "kernelspec": {
   "display_name": "Python 3",
   "language": "python",
   "name": "python3"
  },
  "language_info": {
   "codemirror_mode": {
    "name": "ipython",
    "version": 3
   },
   "file_extension": ".py",
   "mimetype": "text/x-python",
   "name": "python",
   "nbconvert_exporter": "python",
   "pygments_lexer": "ipython3",
   "version": "3.6.8"
  }
 },
 "nbformat": 4,
 "nbformat_minor": 2
}
