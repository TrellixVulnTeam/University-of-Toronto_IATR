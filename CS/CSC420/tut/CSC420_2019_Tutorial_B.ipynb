{
  "nbformat": 4,
  "nbformat_minor": 0,
  "metadata": {
    "colab": {
      "name": "CSC420_2019_Tutorial_B.ipynb",
      "provenance": [],
      "collapsed_sections": []
    },
    "kernelspec": {
      "name": "python3",
      "display_name": "Python 3"
    },
    "accelerator": "TPU"
  },
  "cells": [
    {
      "cell_type": "code",
      "metadata": {
        "id": "TY4JHthpfohH",
        "colab_type": "code",
        "colab": {}
      },
      "source": [
        "# Load the Drive helper and mount\n",
        "from google.colab import drive\n",
        "\n",
        "# This will prompt for authorization.\n",
        "drive.mount('/content/drive')"
      ],
      "execution_count": 0,
      "outputs": []
    },
    {
      "cell_type": "code",
      "metadata": {
        "id": "W6xhnWkcfpCi",
        "colab_type": "code",
        "colab": {}
      },
      "source": [
        "# install OpenCV\n",
        "!pip install opencv-python\n",
        "\n",
        "# the usual ...\n",
        "%matplotlib inline\n",
        "import matplotlib.pyplot as plt\n",
        "import cv2\n",
        "import numpy as np"
      ],
      "execution_count": 0,
      "outputs": []
    },
    {
      "cell_type": "code",
      "metadata": {
        "id": "q5nYC3uxftNR",
        "colab_type": "code",
        "colab": {}
      },
      "source": [
        "# read an image (make sure CavePainting.jpg is in the main folder in your Google Drive)\n",
        "img = cv2.imread('/content/drive/My Drive/Corners.jpg') # READS IN NUMPY ARRAY\n",
        "#img = cv2.imread('/content/drive/My Drive/Window2.jpg') # READS IN NUMPY ARRAY"
      ],
      "execution_count": 0,
      "outputs": []
    },
    {
      "cell_type": "code",
      "metadata": {
        "id": "rsFEopuZf1Jf",
        "colab_type": "code",
        "colab": {}
      },
      "source": [
        "img = cv2.cvtColor(img, cv2.COLOR_BGR2RGB)"
      ],
      "execution_count": 0,
      "outputs": []
    },
    {
      "cell_type": "code",
      "metadata": {
        "id": "IDohXvv5f-62",
        "colab_type": "code",
        "colab": {}
      },
      "source": [
        "plt.imshow(img)"
      ],
      "execution_count": 0,
      "outputs": []
    },
    {
      "cell_type": "code",
      "metadata": {
        "id": "gU0pwnAdgSFY",
        "colab_type": "code",
        "colab": {}
      },
      "source": [
        "gray = cv2.cvtColor(img, cv2.COLOR_BGR2GRAY)\n",
        "blur = cv2.GaussianBlur(gray,(5,5),7)\n",
        "Ix = cv2.Sobel(blur, cv2.CV_64F, 1, 0, ksize=5)\n",
        "Iy = cv2.Sobel(blur, cv2.CV_64F, 0, 1, ksize=5)\n"
      ],
      "execution_count": 0,
      "outputs": []
    },
    {
      "cell_type": "code",
      "metadata": {
        "id": "zSXIrvXUgmBW",
        "colab_type": "code",
        "colab": {}
      },
      "source": [
        "plt.subplot(2,1,1), plt.imshow(Ix,cmap = 'gray')\n",
        "plt.subplot(2,1,2), plt.imshow(Iy,cmap = 'gray')\n"
      ],
      "execution_count": 0,
      "outputs": []
    },
    {
      "cell_type": "code",
      "metadata": {
        "id": "4K6ZbuA3gth1",
        "colab_type": "code",
        "colab": {}
      },
      "source": [
        "IxIy = np.multiply(Ix, Iy)\n",
        "Ix2 = np.multiply(Ix, Ix)\n",
        "Iy2 = np.multiply(Iy, Iy)"
      ],
      "execution_count": 0,
      "outputs": []
    },
    {
      "cell_type": "code",
      "metadata": {
        "id": "ZgzeGFCphAKp",
        "colab_type": "code",
        "colab": {}
      },
      "source": [
        "Ix2_blur = cv2.GaussianBlur(Ix2,(7,7),10) \n",
        "Iy2_blur = cv2.GaussianBlur(Iy2,(7,7),10) \n",
        "IxIy_blur = cv2.GaussianBlur(IxIy,(7,7),10) "
      ],
      "execution_count": 0,
      "outputs": []
    },
    {
      "cell_type": "code",
      "metadata": {
        "id": "L4aljhuQh2_v",
        "colab_type": "code",
        "colab": {}
      },
      "source": [
        "plt.subplot(1,3,1), plt.imshow(Ix2_blur,cmap = 'gray')\n",
        "plt.subplot(1,3,2), plt.imshow(Iy2_blur,cmap = 'gray')\n",
        "plt.subplot(1,3,3), plt.imshow(IxIy_blur,cmap = 'gray')\n"
      ],
      "execution_count": 0,
      "outputs": []
    },
    {
      "cell_type": "code",
      "metadata": {
        "id": "v2tekMMuiEZs",
        "colab_type": "code",
        "colab": {}
      },
      "source": [
        "det = np.multiply(Ix2_blur, Iy2_blur) - np.multiply(IxIy_blur,IxIy_blur)\n",
        "trace = Ix2_blur + Iy2_blur"
      ],
      "execution_count": 0,
      "outputs": []
    },
    {
      "cell_type": "code",
      "metadata": {
        "id": "Rnu4CwqwizvX",
        "colab_type": "code",
        "colab": {}
      },
      "source": [
        "plt.subplot(1,2,1), plt.imshow(det,cmap = 'gray')\n",
        "plt.subplot(1,2,2), plt.imshow(trace,cmap = 'gray')"
      ],
      "execution_count": 0,
      "outputs": []
    },
    {
      "cell_type": "code",
      "metadata": {
        "id": "W5iTiGc6i_b2",
        "colab_type": "code",
        "colab": {}
      },
      "source": [
        "R = det - 0.05 * np.multiply(trace,trace)\n",
        "plt.subplot(1,2,1), plt.imshow(img), plt.axis('off')\n",
        "plt.subplot(1,2,2), plt.imshow(R,cmap = 'gray'), plt.axis('off')"
      ],
      "execution_count": 0,
      "outputs": []
    }
  ]
}